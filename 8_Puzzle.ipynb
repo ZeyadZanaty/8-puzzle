{
  "nbformat": 4,
  "nbformat_minor": 0,
  "metadata": {
    "colab": {
      "name": "8-Puzzle.ipynb",
      "version": "0.3.2",
      "provenance": [],
      "collapsed_sections": [],
      "include_colab_link": true
    },
    "kernelspec": {
      "name": "python3",
      "display_name": "Python 3"
    }
  },
  "cells": [
    {
      "cell_type": "markdown",
      "metadata": {
        "id": "view-in-github",
        "colab_type": "text"
      },
      "source": [
        "[View in Colaboratory](https://colab.research.google.com/github/ZeyadZanaty/8-puzzle/blob/master/8_Puzzle.ipynb)"
      ]
    },
    {
      "metadata": {
        "id": "-5gpTb3VYvfA",
        "colab_type": "code",
        "colab": {}
      },
      "cell_type": "code",
      "source": [
        "import numpy as np\n",
        "import math"
      ],
      "execution_count": 0,
      "outputs": []
    },
    {
      "metadata": {
        "id": "rFBrZivXY0BI",
        "colab_type": "code",
        "colab": {
          "base_uri": "https://localhost:8080/",
          "height": 34
        },
        "outputId": "d2c9f3fe-e6be-4138-bc52-c685c403e2d8"
      },
      "cell_type": "code",
      "source": [
        "%%writefile input.txt\n",
        "\n",
        "6,4,7,8,5,0,3,2,1"
      ],
      "execution_count": 55,
      "outputs": [
        {
          "output_type": "stream",
          "text": [
            "Overwriting input.txt\n"
          ],
          "name": "stdout"
        }
      ]
    },
    {
      "metadata": {
        "id": "k-FNXWUNZflD",
        "colab_type": "code",
        "colab": {}
      },
      "cell_type": "code",
      "source": [
        "class Node:\n",
        "  def __init__(self,state,parent=None,depth=0,path_cost=0,cost=0,move=''):\n",
        "    self.state=state\n",
        "    self.parent=parent\n",
        "    self.depth=depth\n",
        "    self.cost=cost\n",
        "    self.move=move\n",
        "    self.path_cost=path_cost\n",
        "    \n",
        "  def __lt__(self, other):\n",
        "        return self.cost < other.cost\n",
        "    \n",
        "  def calculate_heuristic(self,goal_state,h=\"manhattan\"):\n",
        "    self.heuristic = 0\n",
        "    if h == 'manhattan':\n",
        "      for i in range(0,self.state.size):\n",
        "        current_y,current_x= np.where(self.state==i)\n",
        "        goal_y,goal_x = np.where(goal_state==i)\n",
        "        self.heuristic+=abs(current_x-goal_x)+abs(current_y-goal_y)\n",
        "      \n",
        "    elif h == 'euclidean':\n",
        "      for i in range(0,self.state.size):\n",
        "        current_y,current_x= np.where(self.state==i)\n",
        "        goal_y,goal_x = np.where(goal_state==i)\n",
        "        self.heuristic+=math.sqrt((current_x-goal_x)**2+(current_y-goal_y)**2)\n",
        "\n",
        "    \n",
        "  def calculate_cost(self,goal_state,h):\n",
        "    self.calculate_heuristic(goal_state,h)\n",
        "    if self.parent is None:\n",
        "      self.cost = self.heuristic\n",
        "    else:\n",
        "      self.path_cost = self.parent.path_cost+1\n",
        "      self.cost = self.path_cost+self.heuristic\n",
        "  \n",
        "  def decrease_key(self,frontier):\n",
        "    for n in frontier:\n",
        "      if np.array_equal(self.state,n.state) and self.cost<n.cost:\n",
        "        self=n\n",
        "        break\n",
        "    \n",
        "f = open('input.txt','r')\n",
        "input_string = f.read()\n",
        "start_state = [int(c) for c in input_string if c not in [',','\\n',' ']]\n",
        "start_state = np.array(start_state)\n",
        "start_state = start_state.reshape((3,3))\n",
        "goal_state = np.array([0,1,2,3,4,5,6,7,8]).reshape(3,3)"
      ],
      "execution_count": 0,
      "outputs": []
    },
    {
      "metadata": {
        "id": "08TeVRgRajqo",
        "colab_type": "code",
        "colab": {}
      },
      "cell_type": "code",
      "source": [
        "import copy\n",
        "def go_down(node,x,y):\n",
        "  if y>0:\n",
        "    new_state=copy.deepcopy(node.state)\n",
        "    new_state[y,x],new_state[y-1,x]=new_state[y-1,x],new_state[y,x]\n",
        "  else: return -1\n",
        "  return Node(new_state,node,node.depth+1,move='down')\n",
        "\n",
        "def go_up(node,x,y):\n",
        "  if y!=2:\n",
        "    new_state=copy.deepcopy(node.state)\n",
        "    new_state[y,x],new_state[y+1,x]=new_state[y+1,x],new_state[y,x]\n",
        "  else: return -1\n",
        "  return Node(new_state,node,node.depth+1,move='up')\n",
        "\n",
        "def go_right(node,x,y):\n",
        "  if x>0:\n",
        "    new_state=copy.deepcopy(node.state)\n",
        "    new_state[y,x-1],new_state[y,x]=new_state[y,x],new_state[y,x-1]\n",
        "  else: return -1\n",
        "  return Node(new_state,node,node.depth+1,move='right')\n",
        "\n",
        "def go_left(node,x,y):\n",
        "  if x!=2:\n",
        "    new_state=copy.deepcopy(node.state)\n",
        "    new_state[y,x+1],new_state[y,x]=new_state[y,x],new_state[y,x+1]\n",
        "  else: return -1\n",
        "  return Node(new_state,node,node.depth+1,move='left')\n",
        "\n",
        "def check_in_list(node_chk,node_list):\n",
        "  for node in node_list:\n",
        "    if np.array_equal(node_chk.state,node.state):\n",
        "      return True\n",
        "  return False\n",
        "    \n",
        "def get_neighbors(node):\n",
        "  children=[]\n",
        "#   print(\"start\"+'\\n',state)\n",
        "  zero_y,zero_x= np.where(node.state==0)\n",
        "\n",
        "  down = go_down(node,zero_x,zero_y)\n",
        "#   print(\"down\"+'\\n',down)\n",
        "  if type(down) is not int:\n",
        "    children.append(down)\n",
        "\n",
        "  up = go_up(node,zero_x,zero_y)\n",
        "#   print(\"up\"+'\\n',up)\n",
        "  if type(up) is not int:\n",
        "    children.append(up)\n",
        "\n",
        "  left = go_left(node,zero_x,zero_y)\n",
        "#   print(\"left\"+'\\n',left)\n",
        "  if type(left) is not int:\n",
        "    children.append(left)\n",
        "\n",
        "  right = go_right(node,zero_x,zero_y)\n",
        "#   print(\"right\"+'\\n',right)\n",
        "  if type(right) is not int:\n",
        "    children.append(right)\n",
        "  return children"
      ],
      "execution_count": 0,
      "outputs": []
    },
    {
      "metadata": {
        "id": "aFllqSBamY10",
        "colab_type": "code",
        "colab": {}
      },
      "cell_type": "code",
      "source": [
        "def get_path(goal_node):\n",
        "  path=[]\n",
        "  while goal_node.parent !=None:\n",
        "    path.insert(0,goal_node.move)\n",
        "    goal_node=goal_node.parent\n",
        "  return path\n",
        "\n",
        "def get_nps(start,list):\n",
        "  if int(timeit.default_timer()-start) == 1:\n",
        "    print(' visiting',len(list),'nodes/sec')\n",
        "    !clear\n",
        "  if int(timeit.default_timer()-start)%60==0 and int(timeit.default_timer()-start)>1:\n",
        "    print(' ',int(timeit.default_timer()-start)/60,' minutes have passed')\n",
        "    print(' now visiting',len(list)/(int(timeit.default_timer()-start)),'nodes/sec')\n",
        "    !clear\n"
      ],
      "execution_count": 0,
      "outputs": []
    },
    {
      "metadata": {
        "id": "nbHoD-CM6hfm",
        "colab_type": "code",
        "colab": {
          "base_uri": "https://localhost:8080/",
          "height": 105
        },
        "outputId": "9ed5d9d4-5e4e-41ba-cd18-5c57a859e529"
      },
      "cell_type": "code",
      "source": [
        "from queue import Queue,LifoQueue,PriorityQueue\n",
        "from operator import attrgetter\n",
        "import timeit\n",
        "\n",
        "def bfs(start_state,goal_state):\n",
        "  start = timeit.default_timer()\n",
        "  root = Node(start_state,depth=0,move='Start')\n",
        "  frontier = Queue()\n",
        "  frontier.put(root)\n",
        "  visited = []\n",
        "  \n",
        "  while not frontier.empty():\n",
        "    node = frontier.get()\n",
        "#     print(\"Expanding Node with depth:\"+str(node.depth)+'\\nSliding '+node.move+', Visited='+str(len(visited))+'\\n'+str(node.state))\n",
        "    visited.append(node)\n",
        "    get_nps(start,visited)\n",
        " \n",
        "    if np.array_equal(node.state,goal_state):\n",
        "      stop = timeit.default_timer()\n",
        "      return True,get_path(node),node.depth,(stop-start),len(visited)\n",
        "\n",
        "    for n in get_neighbors(node):\n",
        "      if not check_in_list(n,visited) and not check_in_list(n,frontier.queue):\n",
        "        frontier.put(n)\n",
        "             \n",
        "  return False\n",
        "\n",
        "def dfs(start_state,goal_state):\n",
        "  start = timeit.default_timer()\n",
        "  root = Node(start_state,depth=0,move='Start')\n",
        "  frontier = LifoQueue()\n",
        "  frontier.put(root)\n",
        "  visited = []\n",
        "  \n",
        "  while not frontier.empty():\n",
        "    node = frontier.get()\n",
        "    print(\"Expanding Node with depth:\"+str(node.depth)+'\\nSliding '+node.move+', Visited='+str(len(visited))+'\\n'+str(node.state))\n",
        "    visited.append(node)\n",
        "    get_nps(start,visited)\n",
        "    \n",
        "    if np.array_equal(node.state,goal_state):\n",
        "      stop = timeit.default_timer()\n",
        "      return True,get_path(node),max(visited, key=attrgetter('depth')).depth,(stop-start)\n",
        "\n",
        "    for n in get_neighbors(node):\n",
        "      if not check_in_list(n,visited) and not check_in_list(n,frontier.queue):\n",
        "        frontier.put(n)\n",
        "    !cls\n",
        "  return False\n",
        "\n",
        "def a_star(start_state,goal_state,heuristic='manhattan'):\n",
        "  start = timeit.default_timer()\n",
        "  root = Node(start_state,depth=0,move='Start')\n",
        "  frontier = PriorityQueue()\n",
        "  frontier.put(root,root.cost)\n",
        "  visited = set()\n",
        "  \n",
        "  while not frontier.empty():\n",
        "    node = frontier.get()\n",
        "#     print(\"Expanding Node with depth:\"+str(node.depth)+', fn = '+str(node.cost)+'\\nSliding '+node.move+'\\n'+str(node.state))\n",
        "    visited.add(node)\n",
        "    get_nps(start,visited)\n",
        " \n",
        "    if np.array_equal(node.state,goal_state):\n",
        "      stop = timeit.default_timer()\n",
        "      return True,get_path(node),max(visited, key=attrgetter('depth')).depth,(stop-start)\n",
        "\n",
        "    for n in get_neighbors(node):\n",
        "      n.calculate_cost(goal_state,heuristic)\n",
        "      if not check_in_list(n,visited) and not check_in_list(n,frontier.queue):\n",
        "        frontier.put(n,n.cost)\n",
        "      else:\n",
        "         n.decrease_key(frontier.queue)\n",
        "  \n",
        "print(a_star(start_state,goal_state,'manhattan'))\n",
        "  "
      ],
      "execution_count": 108,
      "outputs": [
        {
          "output_type": "stream",
          "text": [
            " visiting 349 nodes/sec\n",
            "\u001b[H\u001b[2J  1.0  minutes have passed\n",
            " now visiting 43.53333333333333 nodes/sec\n",
            "\u001b[H\u001b[2J(True, ['right', 'up', 'right', 'down', 'down', 'left', 'up', 'up', 'left', 'down', 'down', 'right', 'up', 'up', 'right', 'down', 'down', 'left', 'up', 'left', 'up', 'right', 'down', 'right', 'down'], 25, 87.58019736000006)\n"
          ],
          "name": "stdout"
        }
      ]
    }
  ]
}